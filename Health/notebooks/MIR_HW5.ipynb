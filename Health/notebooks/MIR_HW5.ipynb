{
  "cells": [
    {
      "cell_type": "markdown",
      "metadata": {
        "id": "-m3FA-pPt9j-"
      },
      "source": [
        "# <strong><font color=#A52A2A></span> MIR_HW5 </strong>\n",
        "\n",
        "98101566 -> Mohammadreza Daviran\n",
        "<br>\n",
        "98105919 -> Reza Erfan Arani\n",
        "<br>\n",
        "98106434 -> Mohammad Khodadadi Aski\n",
        "<br>\n",
        "\n",
        "<strong><font color=#B22222></span> Please run this notebook on google colab or on a computer with higher than 12GB memory RAM! </strong>"
      ]
    },
    {
      "cell_type": "markdown",
      "source": [
        "In this notebook, we fully implement the second scenario.\n",
        "\n",
        "In this implementation the paragraphs Namnak's texts were considered as nodes. We connect two sentences(or paragraphs) If they have more than a certain limit duplicate words. Finally, by using link analysis algorithms, we find the most important (or central) sentences of the given texts.\n"
      ],
      "metadata": {
        "id": "v-zhDfppQvAz"
      }
    },
    {
      "cell_type": "markdown",
      "metadata": {
        "id": "AEicafaDuCdb"
      },
      "source": [
        "# <strong><font color=#5F9EA0></span> Download the files </strong> "
      ]
    },
    {
      "cell_type": "code",
      "execution_count": null,
      "metadata": {
        "id": "BMilvDZ_dl5p"
      },
      "outputs": [],
      "source": [
        "import requests\n",
        "import json"
      ]
    },
    {
      "cell_type": "code",
      "execution_count": null,
      "metadata": {
        "colab": {
          "base_uri": "https://localhost:8080/"
        },
        "id": "CXaNetAOuD_3",
        "outputId": "bcf1118b-ae56-4178-cdbb-feac9c2d1f62"
      },
      "outputs": [
        {
          "output_type": "stream",
          "name": "stdout",
          "text": [
            "Cloning into 'course-nlp-ir-1-text-exploring'...\n",
            "remote: Enumerating objects: 401, done.\u001b[K\n",
            "remote: Counting objects: 100% (4/4), done.\u001b[K\n",
            "remote: Compressing objects: 100% (4/4), done.\u001b[K\n",
            "remote: Total 401 (delta 2), reused 0 (delta 0), pack-reused 397\u001b[K\n",
            "Receiving objects: 100% (401/401), 98.78 MiB | 21.87 MiB/s, done.\n",
            "Resolving deltas: 100% (197/197), done.\n",
            "Checking out files: 100% (245/245), done.\n"
          ]
        }
      ],
      "source": [
        "!git clone https://github.com/language-ml/course-nlp-ir-1-text-exploring.git"
      ]
    },
    {
      "cell_type": "code",
      "execution_count": null,
      "metadata": {
        "colab": {
          "base_uri": "https://localhost:8080/"
        },
        "id": "Mm2iOcTAuIfg",
        "outputId": "9770e960-1cd8-4d61-980f-e245e1918aaa"
      },
      "outputs": [
        {
          "output_type": "stream",
          "name": "stdout",
          "text": [
            "/content/course-nlp-ir-1-text-exploring/exploring-datasets/health\n"
          ]
        }
      ],
      "source": [
        "%cd course-nlp-ir-1-text-exploring/exploring-datasets/health"
      ]
    },
    {
      "cell_type": "code",
      "execution_count": null,
      "metadata": {
        "colab": {
          "base_uri": "https://localhost:8080/"
        },
        "id": "Lo8d1NbYuNIG",
        "outputId": "5e3d4fdc-2000-41f2-d5d7-7dacf06852f4"
      },
      "outputs": [
        {
          "output_type": "stream",
          "name": "stdout",
          "text": [
            "hidoctor-1.json  hidoctor-4.json  namnak-2.json  namnak-5.json\n",
            "hidoctor-2.json  hidoctor-5.json  namnak-3.json  README.md\n",
            "hidoctor-3.json  namnak-1.json\t  namnak-4.json\n"
          ]
        }
      ],
      "source": [
        "!ls"
      ]
    },
    {
      "cell_type": "markdown",
      "metadata": {
        "id": "-615NazjuQEC"
      },
      "source": [
        "Our dataset is json so first of all we merge all the files to 'bio.json' file."
      ]
    },
    {
      "cell_type": "code",
      "execution_count": null,
      "metadata": {
        "id": "_qWVfSbFuNsS"
      },
      "outputs": [],
      "source": [
        "def merge_JsonFiles(filename):\n",
        "    result = list()\n",
        "    for f1 in filename:\n",
        "        with open(f1, 'r') as infile:\n",
        "            result.extend(json.load(infile))\n",
        "\n",
        "    with open('bio.json', 'w') as output_file:\n",
        "        json.dump(result, output_file)\n",
        "\n",
        "# files = ['hidoctor-1.json', 'hidoctor-2.json', 'hidoctor-3.json','hidoctor-4.json','hidoctor-5.json', 'namnak-1.json', 'namnak-2.json', 'namnak-3.json','namnak-4.json','namnak-5.json']\n",
        "files = ['namnak-1.json', 'namnak-2.json', 'namnak-3.json','namnak-4.json','namnak-5.json']\n",
        "merge_JsonFiles(files)"
      ]
    },
    {
      "cell_type": "markdown",
      "metadata": {
        "id": "z26DfM50uUVl"
      },
      "source": [
        "By loading the json file, we extract all the paragraphs and save them in *documents* for future work."
      ]
    },
    {
      "cell_type": "code",
      "execution_count": null,
      "metadata": {
        "id": "tZKU5rVuuUzs"
      },
      "outputs": [],
      "source": [
        "f = open('bio.json')\n",
        "bioset = json.load(f)\n",
        "f.close()"
      ]
    },
    {
      "cell_type": "code",
      "execution_count": null,
      "metadata": {
        "id": "YHwMY3UyuWTn"
      },
      "outputs": [],
      "source": [
        "nutrition_documents = []\n",
        "new_in_med_documents = []\n",
        "dental_documents = []\n",
        "family_health_documents = []\n",
        "mental_health_documents = []\n",
        "hair_skin_documents = []\n",
        "prophylaxis_disease_documents = []\n",
        "\n",
        "for i in bioset:\n",
        "  if (i['categories'][1] == 'تغذیه'):\n",
        "    nutrition_documents.append(i['paragraphs'])\n",
        "  elif (i['categories'][1] == 'تازه های سلامت'):\n",
        "    new_in_med_documents.append(i['paragraphs'])\n",
        "  elif (i['categories'][1] == 'دهان و دندان'):\n",
        "    dental_documents.append(i['paragraphs'])\n",
        "  elif (i['categories'][1] == 'سلامت خانواده'):\n",
        "    family_health_documents.append(i['paragraphs'])\n",
        "  elif (i['categories'][1] == 'سلامت روان'):\n",
        "    mental_health_documents.append(i['paragraphs'])\n",
        "  elif (i['categories'][1] == 'پوست و مو'):\n",
        "    hair_skin_documents.append(i['paragraphs'])\n",
        "  elif (i['categories'][1] == 'پیشگیری و بیماریها'):\n",
        "    prophylaxis_disease_documents.append(i['paragraphs'])"
      ]
    },
    {
      "cell_type": "code",
      "execution_count": null,
      "metadata": {
        "id": "-LS381yquXht",
        "colab": {
          "base_uri": "https://localhost:8080/"
        },
        "outputId": "6837db39-36e3-4640-fbfc-2658ab6d2721"
      },
      "outputs": [
        {
          "output_type": "execute_result",
          "data": {
            "text/plain": [
              "{'تازه های سلامت',\n",
              " 'تغذیه',\n",
              " 'دهان و دندان',\n",
              " 'سلامت خانواده',\n",
              " 'سلامت روان',\n",
              " 'پوست و مو',\n",
              " 'پیشگیری و بیماریها'}"
            ]
          },
          "metadata": {},
          "execution_count": 8
        }
      ],
      "source": [
        "x = set()\n",
        "for i in bioset:\n",
        "  x.add(i['categories'][1])\n",
        "NUM_OF_CATEGORIES = len(x)\n",
        "x"
      ]
    },
    {
      "cell_type": "markdown",
      "metadata": {
        "id": "Edfac4TNuuTJ"
      },
      "source": [
        "# <strong><font color=#5F9EA0></span> Preprocessing </strong> "
      ]
    },
    {
      "cell_type": "markdown",
      "metadata": {
        "id": "RLyYWajPuw8D"
      },
      "source": [
        "First we import the requirements for preprocessing the data."
      ]
    },
    {
      "cell_type": "code",
      "execution_count": null,
      "metadata": {
        "id": "DiEU8lQxuumj"
      },
      "outputs": [],
      "source": [
        "import random \n",
        "import tqdm\n",
        "import nltk\n",
        "from nltk.corpus import brown\n",
        "from nltk import word_tokenize\n",
        "import csv\n",
        "import re\n",
        "import pandas as pd\n",
        "import matplotlib.pyplot as plt\n",
        "import itertools\n",
        "import random \n",
        "import nltk\n",
        "import codecs"
      ]
    },
    {
      "cell_type": "code",
      "execution_count": null,
      "metadata": {
        "id": "asPiNX3HvVF2",
        "colab": {
          "base_uri": "https://localhost:8080/",
          "height": 558
        },
        "outputId": "b800cbac-e9b1-444b-a84d-9418844611fd"
      },
      "outputs": [
        {
          "output_type": "stream",
          "name": "stdout",
          "text": [
            "Looking in indexes: https://pypi.org/simple, https://us-python.pkg.dev/colab-wheels/public/simple/\n",
            "Collecting hazm\n",
            "  Downloading hazm-0.7.0-py3-none-any.whl (316 kB)\n",
            "\u001b[K     |████████████████████████████████| 316 kB 5.1 MB/s \n",
            "\u001b[?25hCollecting libwapiti>=0.2.1\n",
            "  Downloading libwapiti-0.2.1.tar.gz (233 kB)\n",
            "\u001b[K     |████████████████████████████████| 233 kB 55.9 MB/s \n",
            "\u001b[?25hCollecting nltk==3.3\n",
            "  Downloading nltk-3.3.0.zip (1.4 MB)\n",
            "\u001b[K     |████████████████████████████████| 1.4 MB 50.2 MB/s \n",
            "\u001b[?25hRequirement already satisfied: six in /usr/local/lib/python3.7/dist-packages (from nltk==3.3->hazm) (1.15.0)\n",
            "Building wheels for collected packages: nltk, libwapiti\n",
            "  Building wheel for nltk (setup.py) ... \u001b[?25l\u001b[?25hdone\n",
            "  Created wheel for nltk: filename=nltk-3.3-py3-none-any.whl size=1394487 sha256=c441887fb098e1c906df8523ac1682eca29479a1e45b35ac5b3276a267e02e65\n",
            "  Stored in directory: /root/.cache/pip/wheels/9b/fd/0c/d92302c876e5de87ebd7fc0979d82edb93e2d8d768bf71fac4\n",
            "  Building wheel for libwapiti (setup.py) ... \u001b[?25l\u001b[?25hdone\n",
            "  Created wheel for libwapiti: filename=libwapiti-0.2.1-cp37-cp37m-linux_x86_64.whl size=154122 sha256=db87e5c4efc23aaa56b231a96950757afabda58a66378772c88dbe51075d35ea\n",
            "  Stored in directory: /root/.cache/pip/wheels/ab/b2/5b/0fe4b8f5c0e65341e8ea7bb3f4a6ebabfe8b1ac31322392dbf\n",
            "Successfully built nltk libwapiti\n",
            "Installing collected packages: nltk, libwapiti, hazm\n",
            "  Attempting uninstall: nltk\n",
            "    Found existing installation: nltk 3.7\n",
            "    Uninstalling nltk-3.7:\n",
            "      Successfully uninstalled nltk-3.7\n",
            "Successfully installed hazm-0.7.0 libwapiti-0.2.1 nltk-3.3\n"
          ]
        },
        {
          "output_type": "display_data",
          "data": {
            "application/vnd.colab-display-data+json": {
              "pip_warning": {
                "packages": [
                  "nltk"
                ]
              }
            }
          },
          "metadata": {}
        }
      ],
      "source": [
        "!pip install hazm"
      ]
    },
    {
      "cell_type": "code",
      "execution_count": null,
      "metadata": {
        "id": "UL91dnqCvWgs"
      },
      "outputs": [],
      "source": [
        "from __future__ import unicode_literals\n",
        "from hazm import *"
      ]
    },
    {
      "cell_type": "markdown",
      "metadata": {
        "id": "ONi6sEq-vX4i"
      },
      "source": [
        "**normalize**\n",
        "\n",
        "normalizer function normilizes the docs we extracted and saves them "
      ]
    },
    {
      "cell_type": "code",
      "execution_count": null,
      "metadata": {
        "colab": {
          "base_uri": "https://localhost:8080/"
        },
        "id": "vz0Q64qXvZuG",
        "outputId": "258a349a-fa85-421c-d338-4e2b585155f9"
      },
      "outputs": [
        {
          "output_type": "stream",
          "name": "stderr",
          "text": [
            "100%|██████████| 125/125 [00:00<00:00, 291.28it/s]\n",
            "100%|██████████| 125/125 [00:00<00:00, 397.38it/s]\n",
            "100%|██████████| 125/125 [00:00<00:00, 345.81it/s]\n",
            "100%|██████████| 125/125 [00:00<00:00, 246.53it/s]\n",
            "100%|██████████| 125/125 [00:00<00:00, 312.94it/s]\n",
            "100%|██████████| 125/125 [00:00<00:00, 260.04it/s]\n",
            "100%|██████████| 125/125 [00:00<00:00, 246.25it/s]\n"
          ]
        }
      ],
      "source": [
        "normalizer = Normalizer()\n",
        "\n",
        "nutrition_doc_normalized = [[normalizer.normalize(y) for y in x] for x in tqdm.tqdm(nutrition_documents)]\n",
        "new_in_med_doc_normalized = [[normalizer.normalize(y) for y in x] for x in tqdm.tqdm(new_in_med_documents)]\n",
        "dental_doc_normalized = [[normalizer.normalize(y) for y in x] for x in tqdm.tqdm(dental_documents)]\n",
        "family_health_doc_normalized = [[normalizer.normalize(y) for y in x] for x in tqdm.tqdm(family_health_documents)]\n",
        "mental_health_doc_normalized = [[normalizer.normalize(y) for y in x] for x in tqdm.tqdm(mental_health_documents)]\n",
        "hair_skin_doc_normalized = [[normalizer.normalize(y) for y in x] for x in tqdm.tqdm(hair_skin_documents)]\n",
        "prophylaxis_disease_doc_normalized = [[normalizer.normalize(y) for y in x] for x in tqdm.tqdm(prophylaxis_disease_documents)]"
      ]
    },
    {
      "cell_type": "code",
      "execution_count": null,
      "metadata": {
        "id": "M5FtMARnvd3S"
      },
      "outputs": [],
      "source": [
        "nutrition_doc_normalized_edited = []\n",
        "for doc in nutrition_doc_normalized:\n",
        "  temp = []\n",
        "  for x in doc:\n",
        "    temp.append(x.replace('\\u200c', ' '))\n",
        "  nutrition_doc_normalized_edited.append(temp)\n",
        "\n",
        "new_in_med_doc_normalized_edited = []\n",
        "for doc in new_in_med_doc_normalized:\n",
        "  temp = []\n",
        "  for x in doc:\n",
        "    temp.append(x.replace('\\u200c', ' '))\n",
        "  new_in_med_doc_normalized_edited.append(temp)\n",
        "\n",
        "dental_doc_normalized_edited = []\n",
        "for doc in dental_doc_normalized:\n",
        "  temp = []\n",
        "  for x in doc:\n",
        "    temp.append(x.replace('\\u200c', ' '))\n",
        "  dental_doc_normalized_edited.append(temp)\n",
        "\n",
        "family_health_doc_normalized_edited = []\n",
        "for doc in family_health_doc_normalized:\n",
        "  temp = []\n",
        "  for x in doc:\n",
        "    temp.append(x.replace('\\u200c', ' '))\n",
        "  family_health_doc_normalized_edited.append(temp)\n",
        "\n",
        "mental_health_doc_normalized_edited = []\n",
        "for doc in mental_health_doc_normalized:\n",
        "  temp = []\n",
        "  for x in doc:\n",
        "    temp.append(x.replace('\\u200c', ' '))\n",
        "  mental_health_doc_normalized_edited.append(temp)\n",
        "\n",
        "hair_skin_doc_normalized_edited = []\n",
        "for doc in hair_skin_doc_normalized:\n",
        "  temp = []\n",
        "  for x in doc:\n",
        "    temp.append(x.replace('\\u200c', ' '))\n",
        "  hair_skin_doc_normalized_edited.append(temp)\n",
        "\n",
        "prophylaxis_disease_doc_normalized_edited = []\n",
        "for doc in prophylaxis_disease_doc_normalized:\n",
        "  temp = []\n",
        "  for x in doc:\n",
        "    temp.append(x.replace('\\u200c', ' '))\n",
        "  prophylaxis_disease_doc_normalized_edited.append(temp)"
      ]
    },
    {
      "cell_type": "markdown",
      "metadata": {
        "id": "k1N-C8PhvfN6"
      },
      "source": [
        "**wording**\n",
        "\n",
        "here we tokenize the sentences in each normilized document and then we save them in the doc_sentences array "
      ]
    },
    {
      "cell_type": "code",
      "execution_count": null,
      "metadata": {
        "colab": {
          "base_uri": "https://localhost:8080/"
        },
        "id": "gIiT6kXxvgse",
        "outputId": "f6b6f3fe-3296-4033-ab3b-2ea2225484de"
      },
      "outputs": [
        {
          "output_type": "stream",
          "name": "stderr",
          "text": [
            "100%|██████████| 125/125 [00:00<00:00, 3531.42it/s]\n",
            "100%|██████████| 125/125 [00:00<00:00, 4535.32it/s]\n",
            "100%|██████████| 125/125 [00:00<00:00, 4275.85it/s]\n",
            "100%|██████████| 125/125 [00:00<00:00, 3727.00it/s]\n",
            "100%|██████████| 125/125 [00:00<00:00, 3176.29it/s]\n",
            "100%|██████████| 125/125 [00:00<00:00, 3224.92it/s]\n",
            "100%|██████████| 125/125 [00:00<00:00, 3045.42it/s]\n"
          ]
        }
      ],
      "source": [
        "nutrition_doc_sentences = [sent_tokenize(' '.join(x)) for x in tqdm.tqdm(nutrition_doc_normalized_edited)]\n",
        "new_in_med_doc_sentences = [sent_tokenize(' '.join(x)) for x in tqdm.tqdm(new_in_med_doc_normalized_edited)]\n",
        "dental_doc_sentences = [sent_tokenize(' '.join(x)) for x in tqdm.tqdm(dental_doc_normalized_edited)]\n",
        "family_health_doc_sentences = [sent_tokenize(' '.join(x)) for x in tqdm.tqdm(family_health_doc_normalized_edited)]\n",
        "mental_health_doc_sentences = [sent_tokenize(' '.join(x)) for x in tqdm.tqdm(mental_health_doc_normalized_edited)]\n",
        "hair_skin_doc_sentences = [sent_tokenize(' '.join(x)) for x in tqdm.tqdm(hair_skin_doc_normalized_edited)]\n",
        "prophylaxis_disease_doc_sentences = [sent_tokenize(' '.join(x)) for x in tqdm.tqdm(prophylaxis_disease_doc_normalized_edited)]"
      ]
    },
    {
      "cell_type": "code",
      "source": [
        "all_nutrition_doc_sentences = []\n",
        "for paragraph in nutrition_doc_sentences:\n",
        "  for sentence in paragraph:\n",
        "    sent = [sentence]\n",
        "    all_nutrition_doc_sentences.append(sent)\n",
        "\n",
        "all_new_in_med_doc_sentences = []\n",
        "for paragraph in new_in_med_doc_sentences:\n",
        "  for sentence in paragraph:\n",
        "    sent = [sentence]\n",
        "    all_new_in_med_doc_sentences.append(sent)\n",
        "\n",
        "all_dental_doc_sentences = []\n",
        "for paragraph in dental_doc_sentences:\n",
        "  for sentence in paragraph:\n",
        "    sent = [sentence]\n",
        "    all_dental_doc_sentences.append(sent)\n",
        "\n",
        "all_family_health_doc_sentences = []\n",
        "for paragraph in family_health_doc_sentences:\n",
        "  for sentence in paragraph:\n",
        "    sent = [sentence]\n",
        "    all_family_health_doc_sentences.append(sent)\n",
        "\n",
        "all_mental_health_doc_sentences = []\n",
        "for paragraph in mental_health_doc_sentences:\n",
        "  for sentence in paragraph:\n",
        "    sent = [sentence]\n",
        "    all_mental_health_doc_sentences.append(sent)\n",
        "\n",
        "all_hair_skin_doc_sentences = []\n",
        "for paragraph in hair_skin_doc_sentences:\n",
        "  for sentence in paragraph:\n",
        "    sent = [sentence]\n",
        "    all_hair_skin_doc_sentences.append(sent)\n",
        "\n",
        "all_prophylaxis_disease_doc_sentences = []\n",
        "for paragraph in prophylaxis_disease_doc_sentences:\n",
        "  for sentence in paragraph:\n",
        "    sent = [sentence]\n",
        "    all_prophylaxis_disease_doc_sentences.append(sent)"
      ],
      "metadata": {
        "id": "y564wFXRqUw6"
      },
      "execution_count": null,
      "outputs": []
    },
    {
      "cell_type": "markdown",
      "metadata": {
        "id": "0ixZ0dWpvi54"
      },
      "source": [
        "**tokenize**\n",
        "\n",
        "we tokenize the words in the doc_sentences array and the we save them into doc_tokens array by tqdm tools."
      ]
    },
    {
      "cell_type": "code",
      "execution_count": null,
      "metadata": {
        "colab": {
          "base_uri": "https://localhost:8080/"
        },
        "id": "Gru_ihnavltj",
        "outputId": "0dbf5f96-a7d9-44df-9c1b-a8e44a8dfe3f"
      },
      "outputs": [
        {
          "output_type": "stream",
          "name": "stderr",
          "text": [
            "100%|██████████| 6123/6123 [00:00<00:00, 11025.99it/s]\n",
            "100%|██████████| 4224/4224 [00:00<00:00, 22390.60it/s]\n",
            "100%|██████████| 4487/4487 [00:00<00:00, 28131.77it/s]\n",
            "100%|██████████| 4961/4961 [00:00<00:00, 15881.51it/s]\n",
            "100%|██████████| 5107/5107 [00:00<00:00, 25446.48it/s]\n",
            "100%|██████████| 6411/6411 [00:00<00:00, 28298.76it/s]\n",
            "100%|██████████| 6855/6855 [00:00<00:00, 28277.26it/s]\n"
          ]
        }
      ],
      "source": [
        "nutrition_doc_tokens = [[word_tokenize(sent) for sent in sents] for sents in tqdm.tqdm(all_nutrition_doc_sentences)]\n",
        "new_in_med_doc_tokens = [[word_tokenize(sent) for sent in sents] for sents in tqdm.tqdm(all_new_in_med_doc_sentences)]\n",
        "dental_doc_tokens = [[word_tokenize(sent) for sent in sents] for sents in tqdm.tqdm(all_dental_doc_sentences)]\n",
        "family_health_doc_tokens = [[word_tokenize(sent) for sent in sents] for sents in tqdm.tqdm(all_family_health_doc_sentences)]\n",
        "mental_health_doc_tokens = [[word_tokenize(sent) for sent in sents] for sents in tqdm.tqdm(all_mental_health_doc_sentences)]\n",
        "hair_skin_doc_tokens = [[word_tokenize(sent) for sent in sents] for sents in tqdm.tqdm(all_hair_skin_doc_sentences)]\n",
        "prophylaxis_disease_doc_tokens = [[word_tokenize(sent) for sent in sents] for sents in tqdm.tqdm(all_prophylaxis_disease_doc_sentences)]"
      ]
    },
    {
      "cell_type": "markdown",
      "metadata": {
        "id": "v3Zj4F-NvqJs"
      },
      "source": [
        "Then by using itertools save them in all_tokens. Because we want to exclude the stopwords from our tokens."
      ]
    },
    {
      "cell_type": "code",
      "execution_count": null,
      "metadata": {
        "id": "PF5NGvshvoJs"
      },
      "outputs": [],
      "source": [
        "all_nutrition_tokens = []\n",
        "for i in nutrition_doc_tokens:\n",
        "  all_nutrition_tokens.append(list(itertools.chain.from_iterable(i)))\n",
        "\n",
        "all_new_in_med_tokens = []\n",
        "for i in new_in_med_doc_tokens:\n",
        "  all_new_in_med_tokens.append(list(itertools.chain.from_iterable(i)))\n",
        "\n",
        "all_dental_tokens = []\n",
        "for i in dental_doc_tokens:\n",
        "  all_dental_tokens.append(list(itertools.chain.from_iterable(i)))\n",
        "\n",
        "all_family_health_tokens = []\n",
        "for i in family_health_doc_tokens:\n",
        "  all_family_health_tokens.append(list(itertools.chain.from_iterable(i)))\n",
        "\n",
        "all_mental_health_tokens = []\n",
        "for i in mental_health_doc_tokens:\n",
        "  all_mental_health_tokens.append(list(itertools.chain.from_iterable(i)))\n",
        "\n",
        "all_hair_skin_tokens = []\n",
        "for i in hair_skin_doc_tokens:\n",
        "  all_hair_skin_tokens.append(list(itertools.chain.from_iterable(i)))\n",
        "\n",
        "all_prophylaxis_disease_tokens = []\n",
        "for i in prophylaxis_disease_doc_tokens:\n",
        "  all_prophylaxis_disease_tokens.append(list(itertools.chain.from_iterable(i)))"
      ]
    },
    {
      "cell_type": "code",
      "source": [
        "# import json\n",
        "# import numpy as np\n",
        "\n",
        "# lists = np.array(all_nutrition_tokens).tolist()\n",
        "# nutrition_json_str = json.dumps(lists)\n",
        "\n",
        "# lists = np.array(all_new_in_med_tokens).tolist()\n",
        "# new_in_med_json_str = json.dumps(lists)\n",
        "\n",
        "# lists = np.array(all_dental_tokens).tolist()\n",
        "# dental_json_str = json.dumps(lists)\n",
        "\n",
        "# lists = np.array(all_family_health_tokens).tolist()\n",
        "# family_health_json_str = json.dumps(lists)\n",
        "\n",
        "# lists = np.array(all_mental_health_tokens).tolist()\n",
        "# mental_health_json_str = json.dumps(lists)\n",
        "\n",
        "# lists = np.array(all_hair_skin_tokens).tolist()\n",
        "# hair_skin_json_str = json.dumps(lists)\n",
        "\n",
        "# lists = np.array(all_prophylaxis_disease_tokens).tolist()\n",
        "# prophylaxis_disease_json_str = json.dumps(lists)"
      ],
      "metadata": {
        "id": "G7D4e7Apmlea"
      },
      "execution_count": null,
      "outputs": []
    },
    {
      "cell_type": "markdown",
      "source": [
        "**<font color='#DD4343'>Note:**\n",
        "  \n",
        "  If you have weak computer **do not** run this section!\n",
        "  <br>\n",
        "  it will take almost an hour to just delete the stop words.\n",
        "  <br>\n",
        "  This also applies for lemmatization...\n",
        "  <br>\n",
        "  <br>\n",
        "  If you have chosen to delete stop words and lemmatize documents:\n",
        "\n",
        "  *   Change 'all_nutrition_tokens' with 'all_nutrition_tokens_nonstop'\n",
        "    - nutrition can be replaced by 'dental', 'mental_health', ...\n",
        "\n",
        "**</font>**"
      ],
      "metadata": {
        "id": "pC60BPRRHTcd"
      }
    },
    {
      "cell_type": "markdown",
      "metadata": {
        "id": "r0XDBgMEvzGL"
      },
      "source": [
        "**Delete stop words**\n",
        "\n",
        "here we \n",
        "\n",
        "\n",
        "1.   download the persian stopwords from bellow link\n",
        "2.   then we delete them from all_tokens arraylist cause they have no value for us\n",
        "3. save the tokens which are not stopwords in all_tokens_nonstop arraylist\n",
        "\n",
        "\n"
      ]
    },
    {
      "cell_type": "code",
      "execution_count": null,
      "metadata": {
        "id": "HYQdKFAavzWG"
      },
      "outputs": [],
      "source": [
        "import codecs\n",
        "link = \"https://raw.githubusercontent.com/sobhe/hazm/master/hazm/data/stopwords.dat\"\n",
        "temp_file = open('stopwords.txt', 'wb').write(requests.get(link, allow_redirects=True).content)"
      ]
    },
    {
      "cell_type": "code",
      "execution_count": null,
      "metadata": {
        "id": "NshrB36ev1E0"
      },
      "outputs": [],
      "source": [
        "stopwords = [normalizer.normalize(x.strip()) for x in codecs.open('stopwords.txt','r','utf-8').readlines()]"
      ]
    },
    {
      "cell_type": "code",
      "execution_count": null,
      "metadata": {
        "id": "StORB6n1v32w"
      },
      "outputs": [],
      "source": [
        "all_nutrition_tokens_nonstop = []\n",
        "for doc in all_nutrition_tokens:\n",
        "  all_nutrition_tokens_nonstop.append([t for t in tqdm.tqdm(doc) if t not in stopwords])\n",
        "  \n",
        "all_dental_tokens_nonstop = []\n",
        "for doc in all_dental_tokens:\n",
        "  all_dental_tokens_nonstop.append([t for t in tqdm.tqdm(doc) if t not in stopwords])\n",
        "\n",
        "all_new_in_med_tokens_nonstop = []\n",
        "for doc in all_new_in_med_tokens:\n",
        "  all_new_in_med_tokens_nonstop.append([t for t in tqdm.tqdm(doc) if t not in stopwords])\n",
        "\n",
        "all_family_health_tokens_nonstop = []\n",
        "for doc in all_family_health_tokens:\n",
        "  all_family_health_tokens_nonstop.append([t for t in tqdm.tqdm(doc) if t not in stopwords])\n",
        "\n",
        "all_mental_health_tokens_nonstop = []\n",
        "for doc in all_mental_health_tokens:\n",
        "  all_mental_health_tokens_nonstop.append([t for t in tqdm.tqdm(doc) if t not in stopwords])\n",
        "\n",
        "all_hair_skin_tokens_nonstop = []\n",
        "for doc in all_hair_skin_tokens:\n",
        "  all_hair_skin_tokens_nonstop.append([t for t in tqdm.tqdm(doc) if t not in stopwords])\n",
        "\n",
        "all_prophylaxis_disease_tokens_nonstop = []\n",
        "for doc in all_prophylaxis_disease_tokens:\n",
        "  all_prophylaxis_disease_tokens_nonstop.append([t for t in tqdm.tqdm(doc) if t not in stopwords])\n"
      ]
    },
    {
      "cell_type": "markdown",
      "metadata": {
        "id": "jarSsmm7v6pw"
      },
      "source": [
        "**lemmatization, stemming**\n",
        "\n",
        "here we lemmatize and stem the tokens "
      ]
    },
    {
      "cell_type": "code",
      "execution_count": null,
      "metadata": {
        "id": "hmrA_k9Rv656"
      },
      "outputs": [],
      "source": [
        "stemmer = Stemmer()\n",
        "lemmatizer = Lemmatizer()\n",
        "\n",
        "def get_lemma_set(tok, opt=1):\n",
        "    if opt == 1:\n",
        "        return stemmer.stem(tok)\n",
        "    if opt == 2:\n",
        "        return lemmatizer.lemmatize(tok)"
      ]
    },
    {
      "cell_type": "code",
      "execution_count": null,
      "metadata": {
        "id": "nvCuzmqbv8nI"
      },
      "outputs": [],
      "source": [
        "opt = 2\n",
        "\n",
        "all_nutrition_tokens_nonstop_lemstem = []\n",
        "all_dental_tokens_nonstop_lemstem = []\n",
        "all_new_in_med_tokens_nonstop_lemstem = []\n",
        "all_family_health_tokens_nonstop_lemstem = []\n",
        "all_mental_health_tokens_nonstop_lemstem = []\n",
        "all_hair_skin_tokens_nonstop_lemstem = []\n",
        "all_prophylaxis_disease_tokens_nonstop_lemstem = []\n",
        "\n",
        "for doc in all_dental_tokens_nonstop:\n",
        "  all_nutrition_tokens_nonstop_lemstem.append([get_lemma_set(t, opt) for t in tqdm.tqdm(doc)])\n",
        "\n",
        "for doc in all_nutrition_tokens_nonstop:\n",
        "  all_dental_tokens_nonstop_lemstem.append([get_lemma_set(t, opt) for t in tqdm.tqdm(doc)])\n",
        "\n",
        "for doc in all_new_in_med_tokens_nonstop:\n",
        "  all_new_in_med_tokens_nonstop_lemstem.append([get_lemma_set(t, opt) for t in tqdm.tqdm(doc)])\n",
        "\n",
        "for doc in all_family_health_tokens_nonstop:\n",
        "  all_family_health_tokens_nonstop_lemstem.append([get_lemma_set(t, opt) for t in tqdm.tqdm(doc)])\n",
        "\n",
        "for doc in all_mental_health_tokens_nonstop:\n",
        "  all_mental_health_tokens_nonstop_lemstem.append([get_lemma_set(t, opt) for t in tqdm.tqdm(doc)])\n",
        "\n",
        "for doc in all_hair_skin_tokens_nonstop:\n",
        "  all_hair_skin_tokens_nonstop_lemstem.append([get_lemma_set(t, opt) for t in tqdm.tqdm(doc)])\n",
        "\n",
        "for doc in all_prophylaxis_disease_tokens_nonstop:\n",
        "  all_prophylaxis_disease_tokens_nonstop_lemstem.append([get_lemma_set(t, opt) for t in tqdm.tqdm(doc)])"
      ]
    },
    {
      "cell_type": "code",
      "execution_count": null,
      "metadata": {
        "id": "uv0ndOvnEwhQ"
      },
      "outputs": [],
      "source": [
        "symbols = [\n",
        "           '!',\n",
        "           '?',\n",
        "           '؟',\n",
        "           '!',\n",
        "           ',',\n",
        "           '،',\n",
        "           '.',\n",
        "           '.',\n",
        "           '[',\n",
        "           ']',\n",
        "           '(',\n",
        "           ')',\n",
        "           '{',\n",
        "           '}',\n",
        "           '؛',\n",
        "           ';',\n",
        "           '\"',\n",
        "           '/',\n",
        "           '\\\\',\n",
        "]"
      ]
    },
    {
      "cell_type": "code",
      "execution_count": null,
      "metadata": {
        "id": "R78yvWPRFc3I"
      },
      "outputs": [],
      "source": [
        "all_nutrition_tokens_nonsymbol = []\n",
        "for doc in all_nutrition_tokens:\n",
        "  doc_tokens_nonsymbol = []\n",
        "  for word in doc:\n",
        "    if word not in symbols:\n",
        "      doc_tokens_nonsymbol.append(word)\n",
        "  all_nutrition_tokens_nonsymbol.append(doc_tokens_nonsymbol)\n",
        "\n",
        "all_new_in_med_tokens_nonsymbol = []\n",
        "for doc in all_new_in_med_tokens:\n",
        "  doc_tokens_nonsymbol = []\n",
        "  for word in doc:\n",
        "    if word not in symbols:\n",
        "      doc_tokens_nonsymbol.append(word)\n",
        "  all_new_in_med_tokens_nonsymbol.append(doc_tokens_nonsymbol)\n",
        "\n",
        "all_dental_tokens_nonsymbol = []\n",
        "for doc in all_dental_tokens:\n",
        "  doc_tokens_nonsymbol = []\n",
        "  for word in doc:\n",
        "    if word not in symbols:\n",
        "      doc_tokens_nonsymbol.append(word)\n",
        "  all_dental_tokens_nonsymbol.append(doc_tokens_nonsymbol)\n",
        "\n",
        "all_family_health_tokens_nonsymbol = []\n",
        "for doc in all_family_health_tokens:\n",
        "  doc_tokens_nonsymbol = []\n",
        "  for word in doc:\n",
        "    if word not in symbols:\n",
        "      doc_tokens_nonsymbol.append(word)\n",
        "  all_family_health_tokens_nonsymbol.append(doc_tokens_nonsymbol)\n",
        "\n",
        "all_mental_health_tokens_nonsymbol = []\n",
        "for doc in all_mental_health_tokens:\n",
        "  doc_tokens_nonsymbol = []\n",
        "  for word in doc:\n",
        "    if word not in symbols:\n",
        "      doc_tokens_nonsymbol.append(word)\n",
        "  all_mental_health_tokens_nonsymbol.append(doc_tokens_nonsymbol)\n",
        "\n",
        "all_hair_skin_tokens_nonsymbol = []\n",
        "for doc in all_hair_skin_tokens:\n",
        "  doc_tokens_nonsymbol = []\n",
        "  for word in doc:\n",
        "    if word not in symbols:\n",
        "      doc_tokens_nonsymbol.append(word)\n",
        "  all_hair_skin_tokens_nonsymbol.append(doc_tokens_nonsymbol)\n",
        "\n",
        "all_prophylaxis_disease_tokens_nonsymbol = []\n",
        "for doc in all_prophylaxis_disease_tokens:\n",
        "  doc_tokens_nonsymbol = []\n",
        "  for word in doc:\n",
        "    if word not in symbols:\n",
        "      doc_tokens_nonsymbol.append(word)\n",
        "  all_prophylaxis_disease_tokens_nonsymbol.append(doc_tokens_nonsymbol)"
      ]
    },
    {
      "cell_type": "code",
      "source": [
        "import json\n",
        "import numpy as np\n",
        "\n",
        "lists = np.array(all_nutrition_tokens_nonsymbol).tolist()\n",
        "nutrition_json_str = json.dumps(lists)\n",
        "\n",
        "lists = np.array(all_new_in_med_tokens_nonsymbol).tolist()\n",
        "new_in_med_json_str = json.dumps(lists)\n",
        "\n",
        "lists = np.array(all_dental_tokens_nonsymbol).tolist()\n",
        "dental_json_str = json.dumps(lists)\n",
        "\n",
        "lists = np.array(all_family_health_tokens_nonsymbol).tolist()\n",
        "family_health_json_str = json.dumps(lists)\n",
        "\n",
        "lists = np.array(all_mental_health_tokens_nonsymbol).tolist()\n",
        "mental_health_json_str = json.dumps(lists)\n",
        "\n",
        "lists = np.array(all_hair_skin_tokens_nonsymbol).tolist()\n",
        "hair_skin_json_str = json.dumps(lists)\n",
        "\n",
        "lists = np.array(all_prophylaxis_disease_tokens_nonsymbol).tolist()\n",
        "prophylaxis_disease_json_str = json.dumps(lists)"
      ],
      "metadata": {
        "colab": {
          "base_uri": "https://localhost:8080/"
        },
        "id": "oE-s0_him5Pl",
        "outputId": "7e23cfc5-6098-49d3-a839-824027a0501f"
      },
      "execution_count": null,
      "outputs": [
        {
          "output_type": "stream",
          "name": "stderr",
          "text": [
            "/usr/local/lib/python3.7/dist-packages/ipykernel_launcher.py:4: VisibleDeprecationWarning: Creating an ndarray from ragged nested sequences (which is a list-or-tuple of lists-or-tuples-or ndarrays with different lengths or shapes) is deprecated. If you meant to do this, you must specify 'dtype=object' when creating the ndarray.\n",
            "  after removing the cwd from sys.path.\n",
            "/usr/local/lib/python3.7/dist-packages/ipykernel_launcher.py:7: VisibleDeprecationWarning: Creating an ndarray from ragged nested sequences (which is a list-or-tuple of lists-or-tuples-or ndarrays with different lengths or shapes) is deprecated. If you meant to do this, you must specify 'dtype=object' when creating the ndarray.\n",
            "  import sys\n",
            "/usr/local/lib/python3.7/dist-packages/ipykernel_launcher.py:10: VisibleDeprecationWarning: Creating an ndarray from ragged nested sequences (which is a list-or-tuple of lists-or-tuples-or ndarrays with different lengths or shapes) is deprecated. If you meant to do this, you must specify 'dtype=object' when creating the ndarray.\n",
            "  # Remove the CWD from sys.path while we load stuff.\n",
            "/usr/local/lib/python3.7/dist-packages/ipykernel_launcher.py:13: VisibleDeprecationWarning: Creating an ndarray from ragged nested sequences (which is a list-or-tuple of lists-or-tuples-or ndarrays with different lengths or shapes) is deprecated. If you meant to do this, you must specify 'dtype=object' when creating the ndarray.\n",
            "  del sys.path[0]\n",
            "/usr/local/lib/python3.7/dist-packages/ipykernel_launcher.py:16: VisibleDeprecationWarning: Creating an ndarray from ragged nested sequences (which is a list-or-tuple of lists-or-tuples-or ndarrays with different lengths or shapes) is deprecated. If you meant to do this, you must specify 'dtype=object' when creating the ndarray.\n",
            "  app.launch_new_instance()\n",
            "/usr/local/lib/python3.7/dist-packages/ipykernel_launcher.py:19: VisibleDeprecationWarning: Creating an ndarray from ragged nested sequences (which is a list-or-tuple of lists-or-tuples-or ndarrays with different lengths or shapes) is deprecated. If you meant to do this, you must specify 'dtype=object' when creating the ndarray.\n",
            "/usr/local/lib/python3.7/dist-packages/ipykernel_launcher.py:22: VisibleDeprecationWarning: Creating an ndarray from ragged nested sequences (which is a list-or-tuple of lists-or-tuples-or ndarrays with different lengths or shapes) is deprecated. If you meant to do this, you must specify 'dtype=object' when creating the ndarray.\n"
          ]
        }
      ]
    },
    {
      "cell_type": "code",
      "source": [
        "with open('all_nutrition_tokens_nonsymbol.json', 'w') as o:\n",
        "    json.dump(nutrition_json_str, o)\n",
        "\n",
        "with open('all_new_in_med_tokens_nonsymbol.json', 'w') as o:\n",
        "    json.dump(nutrition_json_str, o)\n",
        "\n",
        "with open('all_dental_tokens_nonsymbol.json', 'w') as o:\n",
        "    json.dump(nutrition_json_str, o)\n",
        "\n",
        "with open('all_family_health_tokens_nonsymbol.json', 'w') as o:\n",
        "    json.dump(nutrition_json_str, o)\n",
        "\n",
        "with open('all_mental_health_tokens_nonsymbol.json', 'w') as o:\n",
        "    json.dump(nutrition_json_str, o)\n",
        "\n",
        "with open('all_hair_skin_tokens_nonsymbol.json', 'w') as o:\n",
        "    json.dump(nutrition_json_str, o)\n",
        "\n",
        "with open('all_prophylaxis_disease_tokens_nonsymbol.json', 'w') as o:\n",
        "    json.dump(nutrition_json_str, o)\n",
        "\n",
        "  "
      ],
      "metadata": {
        "id": "PQ4TeNWqnFf-"
      },
      "execution_count": null,
      "outputs": []
    },
    {
      "cell_type": "markdown",
      "metadata": {
        "id": "WfnIa35H3v2Q"
      },
      "source": [
        "# <strong><font color=#5F9EA0></span> tf-idf </strong> "
      ]
    },
    {
      "cell_type": "markdown",
      "source": [
        "In this section we build our Vectorizer!"
      ],
      "metadata": {
        "id": "uHYL2CzRLmWw"
      }
    },
    {
      "cell_type": "code",
      "execution_count": null,
      "metadata": {
        "id": "fbYz7PrH3wtJ"
      },
      "outputs": [],
      "source": [
        "import pandas as pd\n",
        "from sklearn.feature_extraction.text import TfidfVectorizer"
      ]
    },
    {
      "cell_type": "code",
      "execution_count": null,
      "metadata": {
        "colab": {
          "base_uri": "https://localhost:8080/"
        },
        "id": "MfM24pyC3zQl",
        "outputId": "7018c306-c673-4671-927b-24e9b08adfe3"
      },
      "outputs": [
        {
          "output_type": "stream",
          "name": "stderr",
          "text": [
            "[nltk_data] Downloading package punkt to /root/nltk_data...\n",
            "[nltk_data]   Unzipping tokenizers/punkt.zip.\n"
          ]
        },
        {
          "output_type": "execute_result",
          "data": {
            "text/plain": [
              "True"
            ]
          },
          "metadata": {},
          "execution_count": 34
        }
      ],
      "source": [
        "import nltk\n",
        "nltk.download('punkt')"
      ]
    },
    {
      "cell_type": "code",
      "execution_count": null,
      "metadata": {
        "id": "AIkXS7K4319g"
      },
      "outputs": [],
      "source": [
        "vectorizer = TfidfVectorizer(use_idf = True, norm ='l2', ngram_range=(1,2), stop_words=None)"
      ]
    },
    {
      "cell_type": "markdown",
      "metadata": {
        "id": "h0bycgKs4w6k"
      },
      "source": [
        "# <strong><font color=#5F9EA0></span> Link Analysis </strong> "
      ]
    },
    {
      "cell_type": "markdown",
      "source": [
        "We have 7 different Categories in our documents. Each category will get a seperate link analysis below."
      ],
      "metadata": {
        "id": "RjmXD0zDLyKt"
      }
    },
    {
      "cell_type": "markdown",
      "source": [
        "### <strong><font color=#CF9E50></span> Nutrition Docs Analysis </strong>"
      ],
      "metadata": {
        "id": "SFz57MR21t5f"
      }
    },
    {
      "cell_type": "markdown",
      "source": [
        "First Category is: **<font color=\"#A54565\"> Nutrition </font>**\n",
        "<br>\n",
        "First we fit and transform our vectorizer with our sentences."
      ],
      "metadata": {
        "id": "nhdWDD5nL9ix"
      }
    },
    {
      "cell_type": "code",
      "source": [
        "vectorizer.fit([' '.join(doc) for doc in all_nutrition_tokens_nonsymbol])"
      ],
      "metadata": {
        "colab": {
          "base_uri": "https://localhost:8080/"
        },
        "id": "eNL__jonnOVK",
        "outputId": "187ec206-4f18-4bc4-f591-1dcf7d0b42e5"
      },
      "execution_count": null,
      "outputs": [
        {
          "output_type": "execute_result",
          "data": {
            "text/plain": [
              "TfidfVectorizer(ngram_range=(1, 2))"
            ]
          },
          "metadata": {},
          "execution_count": 36
        }
      ]
    },
    {
      "cell_type": "code",
      "execution_count": null,
      "metadata": {
        "id": "oonLGrZN4Ijw"
      },
      "outputs": [],
      "source": [
        "X = vectorizer.transform([' '.join(doc) for doc in all_nutrition_tokens_nonsymbol])"
      ]
    },
    {
      "cell_type": "markdown",
      "source": [
        "Now we build the adjacency matrix."
      ],
      "metadata": {
        "id": "oUwyuogKMbMW"
      }
    },
    {
      "cell_type": "code",
      "execution_count": null,
      "metadata": {
        "id": "LRYzNRRg4Q1-"
      },
      "outputs": [],
      "source": [
        "P = X.dot(X.T)"
      ]
    },
    {
      "cell_type": "code",
      "execution_count": null,
      "metadata": {
        "id": "qDdwhzIG5lMv"
      },
      "outputs": [],
      "source": [
        "from sklearn.preprocessing import normalize"
      ]
    },
    {
      "cell_type": "markdown",
      "source": [
        "We normalize the matrix with L1 norm."
      ],
      "metadata": {
        "id": "JJp0CR8NMpIT"
      }
    },
    {
      "cell_type": "code",
      "execution_count": null,
      "metadata": {
        "id": "GUVKDwuc5_1h"
      },
      "outputs": [],
      "source": [
        "P_norm = normalize(P, norm='l1')"
      ]
    },
    {
      "cell_type": "markdown",
      "source": [
        "Checking that sum of a line is actualy equal to 1.\n",
        "\n",
        "*You can change '2' to any number you want within the range*"
      ],
      "metadata": {
        "id": "wzkCNf9IMx7O"
      }
    },
    {
      "cell_type": "code",
      "execution_count": null,
      "metadata": {
        "colab": {
          "base_uri": "https://localhost:8080/"
        },
        "id": "OB5P0cE16Yp_",
        "outputId": "a81be6cc-30f0-4fd1-d957-54c8dfed32a6"
      },
      "outputs": [
        {
          "output_type": "execute_result",
          "data": {
            "text/plain": [
              "1.0000000000000027"
            ]
          },
          "metadata": {},
          "execution_count": 41
        }
      ],
      "source": [
        "import numpy as np\n",
        "\n",
        "np.sum(P_norm[2,:])"
      ]
    },
    {
      "cell_type": "code",
      "execution_count": null,
      "metadata": {
        "id": "VOQnR1ta7UHs"
      },
      "outputs": [],
      "source": [
        "import networkx as nx"
      ]
    },
    {
      "cell_type": "markdown",
      "source": [
        "Now we want a graph from numpy matrix.\n",
        "The numpy matrix is interpreted as an adjacency matrix for the graph."
      ],
      "metadata": {
        "id": "GXGKexzlNEDN"
      }
    },
    {
      "cell_type": "code",
      "execution_count": null,
      "metadata": {
        "id": "xiSON1dB7Wcc"
      },
      "outputs": [],
      "source": [
        "G = nx.from_numpy_matrix(P_norm.toarray())"
      ]
    },
    {
      "cell_type": "markdown",
      "source": [
        "Building page rank..."
      ],
      "metadata": {
        "id": "qX9UyjFqNKEn"
      }
    },
    {
      "cell_type": "code",
      "execution_count": null,
      "metadata": {
        "id": "izDmn24CCjxX"
      },
      "outputs": [],
      "source": [
        "page_rank = nx.pagerank(G, alpha=0.9)"
      ]
    },
    {
      "cell_type": "markdown",
      "source": [
        "Hubs and Authorities..."
      ],
      "metadata": {
        "id": "FlkD52AMNPsj"
      }
    },
    {
      "cell_type": "code",
      "execution_count": null,
      "metadata": {
        "id": "Rfvj3YuyC1SX"
      },
      "outputs": [],
      "source": [
        "h, a = nx.hits(G)"
      ]
    },
    {
      "cell_type": "markdown",
      "source": [
        "Printing the most 5(changable) important sentences. \n",
        "\n",
        "This has been done both for page_rank and hits/authorities. \n",
        "\n",
        "You can see that they are almost alike."
      ],
      "metadata": {
        "id": "9tY4zN2SOTV1"
      }
    },
    {
      "cell_type": "code",
      "execution_count": null,
      "metadata": {
        "colab": {
          "base_uri": "https://localhost:8080/"
        },
        "id": "0tDGIhPfC_Qe",
        "outputId": "12c16e3e-488a-4f07-db35-2ab4aafc37a9"
      },
      "outputs": [
        {
          "output_type": "stream",
          "name": "stdout",
          "text": [
            "['ویتامین E - توکوترینولز: ویتامین E یک جز مهم در بسیاری از محصولات مراقبت از پوست است، اما بیشتر ویتامین E مصنوعی است و واقعا هیچ کار خوبی انجام نمی دهد با این حال، ویتامین E در محصولات طبیعی برای پوست و موی شما مفید است، این نوع ویتامین E به عنوان a شناخته می شود و یک آنتی اکسیدان قوی است.']\n",
            "-----\n",
            "['قطعا می دانید که مصرف ویتامین، راه پیشگیری از بیماری های مختلف می باشد که سیر نیز یکی از همین ویتامین ها است که سلامت شما و از بین بردن سموم بدن در طولانی مدت را تضمین می کند.']\n",
            "-----\n",
            "['روغن سبوس برنج نیز غنی از ماده ای به نام ارزیانول است، که یک مبارز رادیکال آزاد با اثرات آنتی اکسیدانی قوی تر نسبت به ویتامین E است و منحصر به فرد است؛ علاوه بر استفاده از روغن سبوس برنج بر روی پوست و مو، شما می توانید آن را نیز بخورید و این روغن قادر به درمان بسیاری از مزایای التیام و تقویت پوست خواهد بود.، همچنین آنطور که در بخش سلامت نمناک خواهیم گفت می توانید از آن در سس سالاد استفاده کنید چون به راحتی با ترکیبات دیگر بدون جدا کردن ترکیب می شود.']\n",
            "-----\n",
            "['روغن سبوس برنج پوست چرب را بهبود می دهد: با این که روغن سبوس برنج نیز یک مرطوب کننده بسیار غنی است، اما در پاسخ به سوال برخی از شما کاربران از بخش سلامت نمناک باید بگوییم که این روغن پوست را چرب نمی کند.']\n",
            "-----\n",
            "['بین ساعت ۱۰ تا ۲۴_ اگر در این ساعات سبزیجاتی هم مصرف شود، بدن می تواند پاکسازی عمیقی را انجام دهد که فواید زیر را به همراه خواهد داشت: تقویت سیستم ایمنی بدن بهبود سلامت استخوان ها تنظیم سطح فشار خون طولانی کردن عمر سلول ها از بین بردن خستگی تنظیم کلسترول جلوگیری از مشکلات قلبی و عروقی جلوگیری از ورود فلزهای سنگین به بدن تقویت بدن ورزشکاران پاکسازی رگ ها افزایش استقامت کمک به تناسب و زیبایی اندام بنابراین به شدت توصیه می شود که به صورت روزانه سیر مصرف کنید و خودتان را از بیماری های مختلف در امان بدارید.']\n",
            "-----\n"
          ]
        }
      ],
      "source": [
        "# all_nutrition_doc_sentences[np.argmax(list(page_rank.values()))]\n",
        "argmaxes = np.argpartition(list(page_rank.values()), -5)[-5:]\n",
        "for i in argmaxes:\n",
        "  print(all_nutrition_doc_sentences[i], end='\\n-----\\n')"
      ]
    },
    {
      "cell_type": "code",
      "execution_count": null,
      "metadata": {
        "colab": {
          "base_uri": "https://localhost:8080/"
        },
        "id": "0l0KjPDwDh8_",
        "outputId": "7265d82e-c1d7-4ca9-b7aa-30eab4c0bbd1"
      },
      "outputs": [
        {
          "output_type": "stream",
          "name": "stdout",
          "text": [
            "['روغن سبوس برنج پوست چرب را بهبود می دهد: با این که روغن سبوس برنج نیز یک مرطوب کننده بسیار غنی است، اما در پاسخ به سوال برخی از شما کاربران از بخش سلامت نمناک باید بگوییم که این روغن پوست را چرب نمی کند.']\n",
            "-----\n",
            "['ترمیم بافت بدن فسفر ماده معدنی است که به شکل گیری ساختار سلول های بدن کمک می کند، به ساخت ماده زمینه ای استخوان کمک می کند و مولکول هایی که منبع خوبی از انرژی برای بدن ما هستند را تقویت می کند.']\n",
            "-----\n",
            "['قطعا می دانید که مصرف ویتامین، راه پیشگیری از بیماری های مختلف می باشد که سیر نیز یکی از همین ویتامین ها است که سلامت شما و از بین بردن سموم بدن در طولانی مدت را تضمین می کند.']\n",
            "-----\n",
            "['روغن سبوس برنج نیز غنی از ماده ای به نام ارزیانول است، که یک مبارز رادیکال آزاد با اثرات آنتی اکسیدانی قوی تر نسبت به ویتامین E است و منحصر به فرد است؛ علاوه بر استفاده از روغن سبوس برنج بر روی پوست و مو، شما می توانید آن را نیز بخورید و این روغن قادر به درمان بسیاری از مزایای التیام و تقویت پوست خواهد بود.، همچنین آنطور که در بخش سلامت نمناک خواهیم گفت می توانید از آن در سس سالاد استفاده کنید چون به راحتی با ترکیبات دیگر بدون جدا کردن ترکیب می شود.']\n",
            "-----\n",
            "['بین ساعت ۱۰ تا ۲۴_ اگر در این ساعات سبزیجاتی هم مصرف شود، بدن می تواند پاکسازی عمیقی را انجام دهد که فواید زیر را به همراه خواهد داشت: تقویت سیستم ایمنی بدن بهبود سلامت استخوان ها تنظیم سطح فشار خون طولانی کردن عمر سلول ها از بین بردن خستگی تنظیم کلسترول جلوگیری از مشکلات قلبی و عروقی جلوگیری از ورود فلزهای سنگین به بدن تقویت بدن ورزشکاران پاکسازی رگ ها افزایش استقامت کمک به تناسب و زیبایی اندام بنابراین به شدت توصیه می شود که به صورت روزانه سیر مصرف کنید و خودتان را از بیماری های مختلف در امان بدارید.']\n",
            "-----\n"
          ]
        }
      ],
      "source": [
        "argmaxes = np.argpartition(list(h.values()), -5)[-5:]\n",
        "for i in argmaxes:\n",
        "  print(all_nutrition_doc_sentences[i], end='\\n-----\\n')"
      ]
    },
    {
      "cell_type": "code",
      "execution_count": null,
      "metadata": {
        "colab": {
          "base_uri": "https://localhost:8080/"
        },
        "id": "kpcpwqspg4Ga",
        "outputId": "476518c4-a19e-4010-f892-1d8863d4d1d2"
      },
      "outputs": [
        {
          "output_type": "stream",
          "name": "stdout",
          "text": [
            "['روغن سبوس برنج پوست چرب را بهبود می دهد: با این که روغن سبوس برنج نیز یک مرطوب کننده بسیار غنی است، اما در پاسخ به سوال برخی از شما کاربران از بخش سلامت نمناک باید بگوییم که این روغن پوست را چرب نمی کند.']\n",
            "-----\n",
            "['ترمیم بافت بدن فسفر ماده معدنی است که به شکل گیری ساختار سلول های بدن کمک می کند، به ساخت ماده زمینه ای استخوان کمک می کند و مولکول هایی که منبع خوبی از انرژی برای بدن ما هستند را تقویت می کند.']\n",
            "-----\n",
            "['قطعا می دانید که مصرف ویتامین، راه پیشگیری از بیماری های مختلف می باشد که سیر نیز یکی از همین ویتامین ها است که سلامت شما و از بین بردن سموم بدن در طولانی مدت را تضمین می کند.']\n",
            "-----\n",
            "['روغن سبوس برنج نیز غنی از ماده ای به نام ارزیانول است، که یک مبارز رادیکال آزاد با اثرات آنتی اکسیدانی قوی تر نسبت به ویتامین E است و منحصر به فرد است؛ علاوه بر استفاده از روغن سبوس برنج بر روی پوست و مو، شما می توانید آن را نیز بخورید و این روغن قادر به درمان بسیاری از مزایای التیام و تقویت پوست خواهد بود.، همچنین آنطور که در بخش سلامت نمناک خواهیم گفت می توانید از آن در سس سالاد استفاده کنید چون به راحتی با ترکیبات دیگر بدون جدا کردن ترکیب می شود.']\n",
            "-----\n",
            "['بین ساعت ۱۰ تا ۲۴_ اگر در این ساعات سبزیجاتی هم مصرف شود، بدن می تواند پاکسازی عمیقی را انجام دهد که فواید زیر را به همراه خواهد داشت: تقویت سیستم ایمنی بدن بهبود سلامت استخوان ها تنظیم سطح فشار خون طولانی کردن عمر سلول ها از بین بردن خستگی تنظیم کلسترول جلوگیری از مشکلات قلبی و عروقی جلوگیری از ورود فلزهای سنگین به بدن تقویت بدن ورزشکاران پاکسازی رگ ها افزایش استقامت کمک به تناسب و زیبایی اندام بنابراین به شدت توصیه می شود که به صورت روزانه سیر مصرف کنید و خودتان را از بیماری های مختلف در امان بدارید.']\n",
            "-----\n"
          ]
        }
      ],
      "source": [
        "argmaxes = np.argpartition(list(a.values()), -5)[-5:]\n",
        "for i in argmaxes:\n",
        "  print(all_nutrition_doc_sentences[i], end='\\n-----\\n')"
      ]
    },
    {
      "cell_type": "markdown",
      "source": [
        "We do the same thing for other 6 categories. \n",
        "\n",
        "(if you want you can uncomment hits/authorities part to see their results too)"
      ],
      "metadata": {
        "id": "RPANmfLVOsuw"
      }
    },
    {
      "cell_type": "markdown",
      "source": [
        "### <strong><font color=#CF9E50></span> News in Med Docs Analysis </strong>"
      ],
      "metadata": {
        "id": "LcNzBTHv-0CH"
      }
    },
    {
      "cell_type": "code",
      "source": [
        "vectorizer.fit([' '.join(doc) for doc in all_new_in_med_tokens_nonsymbol])"
      ],
      "metadata": {
        "colab": {
          "base_uri": "https://localhost:8080/"
        },
        "id": "p4v_tkdt-1EV",
        "outputId": "5500b137-dcdb-4c46-9236-7b3df4f3f39c"
      },
      "execution_count": null,
      "outputs": [
        {
          "output_type": "execute_result",
          "data": {
            "text/plain": [
              "TfidfVectorizer(ngram_range=(1, 2))"
            ]
          },
          "metadata": {},
          "execution_count": 79
        }
      ]
    },
    {
      "cell_type": "code",
      "source": [
        "X = vectorizer.transform([' '.join(doc) for doc in all_new_in_med_tokens_nonsymbol])"
      ],
      "metadata": {
        "id": "DY5p30YC_AlB"
      },
      "execution_count": null,
      "outputs": []
    },
    {
      "cell_type": "code",
      "source": [
        "P = X.dot(X.T)"
      ],
      "metadata": {
        "id": "mcQe2iMk_Geg"
      },
      "execution_count": null,
      "outputs": []
    },
    {
      "cell_type": "code",
      "source": [
        "P_norm = normalize(P, norm='l1')"
      ],
      "metadata": {
        "id": "JnGnYYmj_KBg"
      },
      "execution_count": null,
      "outputs": []
    },
    {
      "cell_type": "code",
      "source": [
        "np.sum(P_norm[2,:])"
      ],
      "metadata": {
        "colab": {
          "base_uri": "https://localhost:8080/"
        },
        "id": "mAam6BKw_MfF",
        "outputId": "fb441b7a-5e5d-4e6a-ca43-7e4141e516e6"
      },
      "execution_count": null,
      "outputs": [
        {
          "output_type": "execute_result",
          "data": {
            "text/plain": [
              "1.0000000000000009"
            ]
          },
          "metadata": {},
          "execution_count": 83
        }
      ]
    },
    {
      "cell_type": "code",
      "source": [
        "G = nx.from_numpy_matrix(P_norm.toarray())"
      ],
      "metadata": {
        "id": "vzwiTG4i_O8Q"
      },
      "execution_count": null,
      "outputs": []
    },
    {
      "cell_type": "code",
      "source": [
        "page_rank = nx.pagerank(G, alpha=0.9)"
      ],
      "metadata": {
        "id": "AJYqNsOd_cuM"
      },
      "execution_count": null,
      "outputs": []
    },
    {
      "cell_type": "code",
      "source": [
        "h, a = nx.hits(G)"
      ],
      "metadata": {
        "id": "xqsX9SRg_dqO"
      },
      "execution_count": null,
      "outputs": []
    },
    {
      "cell_type": "code",
      "source": [
        "argmaxes = np.argpartition(list(page_rank.values()), -5)[-5:]\n",
        "for i in argmaxes:\n",
        "  print(all_new_in_med_doc_sentences[i], end='\\n-----\\n')"
      ],
      "metadata": {
        "colab": {
          "base_uri": "https://localhost:8080/"
        },
        "id": "JE57t1OE_iV2",
        "outputId": "60064fb7-1465-4c5e-809f-63c3aa634632"
      },
      "execution_count": null,
      "outputs": [
        {
          "output_type": "stream",
          "name": "stdout",
          "text": [
            "['راز هایی در مورد ویتامین ها و مکمل ها که پزشکان به دوستان خود می گویند به تازگی متخصصان ایده های جدیدی را درباره مصرف ویتامین ها ارائه داده اند و با استناد به آن ها متوجه می شویم که توصیه های آنان در مورد ویتامین نسبت به همیشه فرق می کند که حال در این قسمت از سلامت نمناک برخی از این کشفیات پزشکان را در مورد مصرف ویتامین را برای شما فاش خواهیم کرد.']\n",
            "-----\n",
            "['پس قبل از هرکاری سعی کنید که استفاده از فیبر را از غذاهای طبیعی داشته باشید اما اگر باز هم کمبود را احساس می کردید، می توانید از مکمل های ۳ گرمی فیبر یک بار در روز استفاده کنید و بعد از سه روز می توانید استفاده از این مکمل ها را افزایش دهید اما باید وضعیت سلامتی و بیماری هایی مثل دیابت را نزد پزشک مشخص کنید که فیبر باعث کاهش قند خون و کاهش جذب داروها می شود.']\n",
            "-----\n",
            "['این امر توسط دانشمندان به عنوان یک اقدام بسیار خطرناک برای ساختار سلامتی انسان معرفی شده است زیرا به واسطه نگاه کردن به اشعه ساتع از نمایشگر در اتاق تاریک و پیش از خواب در حقیقت به مغز خود آسیبی را وارد می کنید که منجر به عدم خواب راحت در طول شب خواهد شد و این امر به تدریج منجر به آسیب های زنجیره ای برای بدن شما خواهد گشت زیرا این عمل موجب می شود که در طول روز بدن شما بسیار خسته باشد و به تدریج فشار وارده به بدن شما بالاتر و بالاتر رفته و سرانجام به سایر اعضای بدن نیز آسیب وارد کند.']\n",
            "-----\n",
            "['اگرچه که بعضی از این تحقیقات نشان می دهد که ویتامین C می تواند از ابتلا به بیماری هایی مثل سرطان جلوگیری کند و برای مشکلاتی مثل سرماخوردگی نیز بسیار مناسب است اما بهترین منبع دریافت آن استفاده از میوه و سبزیجات است و زمانی که دز مصرف ویتامین C بالا می رود، جذب آن پایین می آید و بیشتر آن همراه با ادرار از بدن خارج می شود.']\n",
            "-----\n",
            "['خوب غذا خوردن و کنترل وزن برای مراقبت از پاها: مانند هر قسمت دیگری از بدن، پاهای شما نسبت به چیزی که می خورید و می نوشید واکنش می دهند، اگر از ورم رنج می برید، از محصولات نمکی دوری کنید، اما در رژیم غذایی خود کمی پروتئین داشته باشید، اگر شما ناگهان احساس سوزش / خارش در پاهای خود می کنید، این می تواند نشانه مصرف الکل باشد، مصرفتان را قطع کنید و چک کنید که آیا به اندازه کافی ویتامین دارید یا خیر، به طور کلی به خاطر داشته باشید که تمام فشار بدن شما روی پاهایتان می افتد، داشتن اضافه وزن می تواند باعث درد پا شود، همچنین دانشمندان فرض می کنند که چربی می تواند دلیل بالقوه برای التهاب بافت پا باشد.']\n",
            "-----\n"
          ]
        }
      ]
    },
    {
      "cell_type": "code",
      "source": [
        "# argmaxes = np.argpartition(list(h.values()), -5)[-5:]\n",
        "# for i in argmaxes:\n",
        "#   print(all_nutrition_doc_sentences[i], end='\\n-----\\n')\n",
        "\n",
        "# argmaxes = np.argpartition(list(a.values()), -5)[-5:]\n",
        "# for i in argmaxes:\n",
        "#   print(all_nutrition_doc_sentences[i], end='\\n-----\\n')"
      ],
      "metadata": {
        "id": "71tC9cSMGpuO"
      },
      "execution_count": null,
      "outputs": []
    },
    {
      "cell_type": "markdown",
      "source": [
        "### <strong><font color=#CF9E50></span> Dental Docs Analysis </strong>"
      ],
      "metadata": {
        "id": "dTHdPCLaEWTn"
      }
    },
    {
      "cell_type": "code",
      "source": [
        "vectorizer.fit([' '.join(doc) for doc in all_dental_tokens_nonsymbol])\n",
        "X = vectorizer.transform([' '.join(doc) for doc in all_dental_tokens_nonsymbol])"
      ],
      "metadata": {
        "id": "0i8o1yumE27B"
      },
      "execution_count": null,
      "outputs": []
    },
    {
      "cell_type": "code",
      "source": [
        "P = X.dot(X.T)"
      ],
      "metadata": {
        "id": "aVIhkCCrE_Ne"
      },
      "execution_count": null,
      "outputs": []
    },
    {
      "cell_type": "code",
      "source": [
        "P_norm = normalize(P, norm='l1')\n",
        "np.sum(P_norm[2,:])"
      ],
      "metadata": {
        "colab": {
          "base_uri": "https://localhost:8080/"
        },
        "id": "5gsFBdcNFA2o",
        "outputId": "72aa2f14-3c17-4fd2-cc7d-3f4f6d8a6d82"
      },
      "execution_count": null,
      "outputs": [
        {
          "output_type": "execute_result",
          "data": {
            "text/plain": [
              "0.9999999999999989"
            ]
          },
          "metadata": {},
          "execution_count": 94
        }
      ]
    },
    {
      "cell_type": "code",
      "source": [
        "G = nx.from_numpy_matrix(P_norm.toarray())"
      ],
      "metadata": {
        "id": "RgLQ88K4FE8d"
      },
      "execution_count": null,
      "outputs": []
    },
    {
      "cell_type": "code",
      "source": [
        "page_rank = nx.pagerank(G, alpha=0.9)\n",
        "h, a = nx.hits(G)"
      ],
      "metadata": {
        "id": "R_DAQGqyFHcb"
      },
      "execution_count": null,
      "outputs": []
    },
    {
      "cell_type": "code",
      "source": [
        "argmaxes = np.argpartition(list(page_rank.values()), -5)[-5:]\n",
        "for i in argmaxes:\n",
        "  print(all_dental_doc_sentences[i], end='\\n-----\\n')"
      ],
      "metadata": {
        "colab": {
          "base_uri": "https://localhost:8080/"
        },
        "id": "SUA5mcqPFZ1x",
        "outputId": "6504a540-6b80-4838-8aa7-3f36e8af4738"
      },
      "execution_count": null,
      "outputs": [
        {
          "output_type": "stream",
          "name": "stdout",
          "text": [
            "['رعایت نکردن بهداشت دندانی: و استفاده نامناسب از مسواک می تواند باعث تیره شدن رنگ دندان شود و علت آن این است که باکتری ها در این قسمت تجمع پیدا می کنند و باعث ایجاد حفره و تغییر رنگ در آن ها می شود و یکی از خطرناک ترین نتایج چنین حفره هایی این است که فرد ممکن است ناحیه ای از دندان را به کل از دست بدهد.']\n",
            "-----\n",
            "['کشیدن دندان متاسفانه، کشیدن دندان های زیاد باعث از بین رفتن استخوان فک می شود، استخوان فک نیاز به مراقب دارد، اگر مراقبت از آن انجام نشود، سیستم ایمنی او را به عنوان یک عامل خطر شناسایی می کند و شروع به شکستن استخوان می کند، این اتفاق باعث می شود که دندان های بیشتری از بین برود، اگر دندانتان را در اثر تصادف از دست داده اید، این موضوع می تواند بر سلامت فرد تاثیر بگذارد، علاوه بر آن، اگر دندان آسیاب کشیده شوند، حفره های سینوسی بزرگ تر می شود و باعث می شود که استخوان فک از بین برود.']\n",
            "-----\n",
            "['مواد غذایی که باید برای سلامت دهان، لثه و دندان باید بخوریم چگونه برخی غذاها به دندان کمک می کنند و لثه سالم می ماند: دندان ها و لثه ها بخشی از بدن هستند، و به خاطر ارتباطشان با بخش های دیگر، برای عملکرد مناسب نیاز به تغذیه مناسب دارند مواد مغذی خاص برای بخش های مختلف بدن مفید هستند، بنابراین اجازه دهید در این بخش از سلامت دهان و دندان در نمناک ببینیم که مهم ترین عناصر برای دندان ها و لثه های سالم کدام است.']\n",
            "-----\n",
            "['اولین دندانی که ظاهر می شود، معمولا به دندان های شیری معروف است و زمانی از لثه ها بیرون می زند که کودک ۵ ماه دارد و البته این سن می تواند متفاوت باشد و برای بعضی کودکان این اتفاق دیرتر یا زودتر بیفتد و به طور کلی انسان ها ۲۰ دندان دارند و ده تای آن ها در قسمت بالا و ۱۰ تای دیگر در قسمت پایین دهان می باشد و این ۲۰ دندان در دسته بندی های مختلف قرار می گیرند و دندان های پیشین واضح ترین دندان ها در دهان هستند که در جلو قرار گرفتند و دندان های نیش در پشت دندان های پیشین هستند و دندان آسیاب نیز در عقب دهان است و بین سن شش تا هشت سال ظاهر می شود.']\n",
            "-----\n",
            "['بیشتر موارد مربوط به معالجه دندان پزشکی با لیزر مربوط به لثه می شود، اما موارد دیگری نیز وجود دارند که چنانچه در بخش سلامت دهان و دندان نمناک میخوانید برخی از آن ها عبارتند از: درمان آفت دهان و گلودرد سرما خوردگی درمان عفونت های کانال ریشه درمان بیماری های لثه رفع التهاب لثه تغییر شکل لثه از بین بردن اتصالات عضلانی که باعث محدود شدن زبان یا حرکات لب می شود ترمیم مینای دندان برای اتصال کامپوزیت کاهش ناراحتی زخم و سرطان های دهانی نمونه برداری (بیوپسی) نمایش دندان عقل ازبین بردن بافت گلویی که سبب آپنه خواب می شود بازسازی اعصاب آسیب دیده ازبین بردن تومور های خوش خیم دهانی تغییر رنگ لثه با لیزر: امروزه چون لیزرها بر روی استخوان تاثیر امن و مطمئنی دارند، تمام رنگدانه ها یا ملانین لثه با این روش برداشته شده و رنگ لثه ها، صورتی و طبیعی می شود که در زیبایی دندانها بسیار موثر است.']\n",
            "-----\n"
          ]
        }
      ]
    },
    {
      "cell_type": "code",
      "source": [
        "# argmaxes = np.argpartition(list(h.values()), -5)[-5:]\n",
        "# for i in argmaxes:\n",
        "#   print(all_nutrition_doc_sentences[i], end='\\n-----\\n')\n",
        "\n",
        "# argmaxes = np.argpartition(list(a.values()), -5)[-5:]\n",
        "# for i in argmaxes:\n",
        "#   print(all_nutrition_doc_sentences[i], end='\\n-----\\n')"
      ],
      "metadata": {
        "id": "4oZkHtSGGxuN"
      },
      "execution_count": null,
      "outputs": []
    },
    {
      "cell_type": "markdown",
      "source": [
        "### <strong><font color=#CF9E50></span> Family Health Docs Analysis </strong>"
      ],
      "metadata": {
        "id": "jVUNIejBEkUt"
      }
    },
    {
      "cell_type": "code",
      "source": [
        "vectorizer.fit([' '.join(doc) for doc in all_family_health_tokens_nonsymbol])\n",
        "X = vectorizer.transform([' '.join(doc) for doc in all_family_health_tokens_nonsymbol])"
      ],
      "metadata": {
        "id": "eZ3rKttBFrcj"
      },
      "execution_count": null,
      "outputs": []
    },
    {
      "cell_type": "code",
      "source": [
        "P = X.dot(X.T)"
      ],
      "metadata": {
        "id": "ctbQHzHeFy8-"
      },
      "execution_count": null,
      "outputs": []
    },
    {
      "cell_type": "code",
      "source": [
        "P_norm = normalize(P, norm='l1')\n",
        "np.sum(P_norm[2,:])"
      ],
      "metadata": {
        "colab": {
          "base_uri": "https://localhost:8080/"
        },
        "id": "_X-d8duSF0Z0",
        "outputId": "bb93c72f-3a99-4f5c-ee4b-08fd55343013"
      },
      "execution_count": null,
      "outputs": [
        {
          "output_type": "execute_result",
          "data": {
            "text/plain": [
              "0.9999999999999991"
            ]
          },
          "metadata": {},
          "execution_count": 100
        }
      ]
    },
    {
      "cell_type": "code",
      "source": [
        "G = nx.from_numpy_matrix(P_norm.toarray())"
      ],
      "metadata": {
        "id": "67eVVwwYF2Wh"
      },
      "execution_count": null,
      "outputs": []
    },
    {
      "cell_type": "code",
      "source": [
        "page_rank = nx.pagerank(G, alpha=0.9)\n",
        "h, a = nx.hits(G)"
      ],
      "metadata": {
        "id": "QUaGR0H8F3h1"
      },
      "execution_count": null,
      "outputs": []
    },
    {
      "cell_type": "code",
      "source": [
        "argmaxes = np.argpartition(list(page_rank.values()), -5)[-5:]\n",
        "for i in argmaxes:\n",
        "  print(all_family_health_doc_sentences[i], end='\\n-----\\n')"
      ],
      "metadata": {
        "colab": {
          "base_uri": "https://localhost:8080/"
        },
        "id": "qhkNdrkTF4wn",
        "outputId": "5ec1ef4a-b98e-44bc-d6f0-14bc8c5175c8"
      },
      "execution_count": null,
      "outputs": [
        {
          "output_type": "stream",
          "name": "stdout",
          "text": [
            "['با این کار، علاوه بر اینکه حجم سبزی ها کم می شود و جای کمتری را هم در فریزر خواهند گرفت، عمل آنزیم بری (بلانچینگ) هم انجام می شود که مانع از تغییر رنگ سبزی ها و تیره شدن آن ها در فرایند انجماد خواهد شد.۴- حتما سبزی ها را در حجم کم و بسته های کوچک (یک وعده ای) منجمد کنید؛ مثلا اگر قرار است سبزی پلو را در ۴ وعده مصرف کنید، حتما آن را در ۴ کیسه بسته بندی یا در ۴ ظرف مختلف قرار دهید.']\n",
            "-----\n",
            "['صندل یکی از بهترین کفش های این دوران انتخاب این کفش ها در فصل های گرم از این جهت اهمیت دارد که به خنک ماندن پای شما کمک می کند بنابراین اگر شما از آن دست زنانی باشید که در دوران بارداری با افزایش دمای بدن رو به رو می شوید، می توانید از این بابت آسوده باشید که با پوشیدن صندل بخشی از گرمای هوا را از خود دور می کنید.']\n",
            "-----\n",
            "['اگر این داروها را هم علاوه بر مکمل های آهن مصرف می کنید، پیشنهاد می شود که با داروسازتان صحبت کنید که قرص های خود را در زمان های مختلف در طول روز قرار دهید، تا اطمینان حاصل شود که در شرایط مطلوب هریک را دریافت خواهید کرد.']\n",
            "-----\n",
            "['متأسفانه یکی از اشتباه های خانم ها این است که سبزی را در حجم زیاد بسته بندی و هنگام مصرف، آن را از فریزر خارج می کنند و بعد از مدت زمانی آن را به اندازه دلخواه برمی دارند و باقیمانده را دوباره در فریزر قرار می دهند.۵- حتما سبزی ها را در حجم کم و بسته های کوچک (یک وعده ای) منجمد کنید؛ مثلا اگر قرار است سبزی پلو را در ۴ وعده مصرف کنید، حتما آن را در ۴ کیسه بسته بندی یا در ۴ ظرف مختلف قرار دهید.']\n",
            "-----\n",
            "['در این قسمت عواملی را به شما معرفی می کنیم که نشان می دهد فرزند شما بیشتر در معرض شروع سیگار کشیدن است: دسترسی راحت به سیگار یا دخانیات از طریق دوستان، اعضای خانواده، فروشگاه یا موادفروشان داشتن خانواده ای سیگاری فشار همکلاسی ها و دوستان درآمد پایین خانواده مشکلات روحی و جسمی و جنسی در خانواده زندگی کردن با افراد معتاد به الکل یا مواد مخدر زندگی با افراد خلافکار و زندانی ضعیف شدن درس در مدرسه افسردگی و مشکلات مربوط به سلامت ذهن یا زندگی با بیماران ذهنی در معرض تبلیغات دخانیات بودن استرس: کودکان و نوجوانانی که با استرس زیادی در زندگی درگیر هستند، برای خلاص شدن از آن به سیگار کشیدن روی می آورند.']\n",
            "-----\n"
          ]
        }
      ]
    },
    {
      "cell_type": "code",
      "source": [
        "# argmaxes = np.argpartition(list(h.values()), -5)[-5:]\n",
        "# for i in argmaxes:\n",
        "#   print(all_nutrition_doc_sentences[i], end='\\n-----\\n')\n",
        "\n",
        "# argmaxes = np.argpartition(list(a.values()), -5)[-5:]\n",
        "# for i in argmaxes:\n",
        "#   print(all_nutrition_doc_sentences[i], end='\\n-----\\n')"
      ],
      "metadata": {
        "id": "GHFtgBTuGy-V"
      },
      "execution_count": null,
      "outputs": []
    },
    {
      "cell_type": "markdown",
      "source": [
        "### <strong><font color=#CF9E50></span> Mental Health Docs Analysis </strong>"
      ],
      "metadata": {
        "id": "bY7GRmD6En3R"
      }
    },
    {
      "cell_type": "code",
      "source": [
        "vectorizer.fit([' '.join(doc) for doc in all_mental_health_tokens_nonsymbol])\n",
        "X = vectorizer.transform([' '.join(doc) for doc in all_mental_health_tokens_nonsymbol])"
      ],
      "metadata": {
        "id": "lJBDivDAF78a"
      },
      "execution_count": null,
      "outputs": []
    },
    {
      "cell_type": "code",
      "source": [
        "P = X.dot(X.T)"
      ],
      "metadata": {
        "id": "6IzW_j74F9aw"
      },
      "execution_count": null,
      "outputs": []
    },
    {
      "cell_type": "code",
      "source": [
        "P_norm = normalize(P, norm='l1')\n",
        "np.sum(P_norm[2,:])"
      ],
      "metadata": {
        "colab": {
          "base_uri": "https://localhost:8080/"
        },
        "id": "AxVCuM-xF-X-",
        "outputId": "b83021f9-ac7e-4eb3-ada0-dc96b6b7c6e2"
      },
      "execution_count": null,
      "outputs": [
        {
          "output_type": "execute_result",
          "data": {
            "text/plain": [
              "1.0000000000000022"
            ]
          },
          "metadata": {},
          "execution_count": 109
        }
      ]
    },
    {
      "cell_type": "code",
      "source": [
        "G = nx.from_numpy_matrix(P_norm.toarray())"
      ],
      "metadata": {
        "id": "SMrCPfLEF_kY"
      },
      "execution_count": null,
      "outputs": []
    },
    {
      "cell_type": "code",
      "source": [
        "page_rank = nx.pagerank(G, alpha=0.9)\n",
        "h, a = nx.hits(G)"
      ],
      "metadata": {
        "id": "3WPekr15GAiL"
      },
      "execution_count": null,
      "outputs": []
    },
    {
      "cell_type": "code",
      "source": [
        "argmaxes = np.argpartition(list(page_rank.values()), -5)[-5:]\n",
        "for i in argmaxes:\n",
        "  print(all_mental_health_doc_sentences[i], end='\\n-----\\n')"
      ],
      "metadata": {
        "colab": {
          "base_uri": "https://localhost:8080/"
        },
        "id": "5ApIjbEiGChp",
        "outputId": "e2064c55-f54e-4fa0-ca68-bfa0d286de2a"
      },
      "execution_count": null,
      "outputs": [
        {
          "output_type": "stream",
          "name": "stdout",
          "text": [
            "['علائم و نشانه های اختلال وسواس فکری و عملی OCD فقط به این دلیل که شما افکار وسواسی یا رفتارهای اجباری دارید، به این معنا نیست که اختلال وسواس فکری داریدبا داشتن OCD، این افکار و رفتارها موجب پریشانی های بزرگی در افراد می شوند، زمان زیادی را به خود اختصاص می دهند (حداقل یک ساعت در روز) و در زندگی روزمره و روابط شما دخالت می کنند اکثر افراد مبتلا به اختلال وسواس فکری، دارای جفت وسواس ها و اجبارها هستند، اما برخی از افراد مبتلا فقط یکی از آنها را تجربه می کنند.']\n",
            "-----\n",
            "['بدخلقی و بی حوصلگی، ۳۰ میلیون آمریکایی را درگیر کرده است هفتاد درصد کسانی که نخستین دوره افسردگی را تجربه می کنند، مجددا با آن روبه رو می شوند آمار موجود حاکی از آن است که مردان و زنان هر دو به یک اندازه افسرده می شوند اما زنان بیش از مردان برای درمان خود به پزشک مراجعه می کنند هزینه های درمانی مرتبط با آن فقط در آمریکا به ۱۶ میلیارد دلار در سال می رسد.']\n",
            "-----\n",
            "['شاید از مرگ کسی در گذشته، ناراحت هستید شاید با خودتان فکر کنید این که فردی که یک سال پیش یا شش ماه گذشته از دنیا رفته دیگر نباید در زمان کنونی احساسات شما را بربیانگیزد، زیرا شما از دست دادن او را پذیرفته اید و به کار های روزانه خود می رسید و زندگی عادی را شروع کرده اید اما مطمئنا احساس تلخ از دست دادن کسی که دوستش دارید ممکن است در مدت زمان طولانی هم به طور ناخودآگاه شما را وادار به گریه کند؛ بدون این که خودتان متوجه این موضوع باشید.']\n",
            "-----\n",
            "['اگر موارد زیر را تجربه کنید کابوس ها به عنوان اختلال در نظر گرفته می شود: کابوس های مکرر پریشانی و یا اختلال در طول روز، مانند اضطراب یا ترس مداوم، اضطراب برای خوابیدن به دلیل ترس از دیدن کابوس دیگر مشکلات در تمرکز و یا فکر کردن به کابوس در طول روز خواب آلودگی روزانه، خستگی و نداشتن انرژی کافی مشکلات در کار یا مدرسه یا در موقعیت های اجتماعی مشکلات رفتاری مربوط به خواب و یا ترس از تاریکی علل کابوس دیدن: استرس یا اضطراب: مورد اول اشاره شده در بخش سلامت روان نمناک استرس است؛ گاهی اوقات استرس های روزمره زندگی مانند یک مشکل در خانه یا مدرسه، باعث کابوس می شود.']\n",
            "-----\n",
            "['غذاهایی که خلق و خوی شما را بهبود میبخشد و افسردگی را درمان می کنند در ادامه این بخش از سلامت نمناک به توصیه های خوراکی برای درمان افسردگی و رفع اضطراب می پردازیم؛ غذاهای حاوی مواد مغذی که شما را شاد می کنند، می توانند به رژیم غذایی دیگری که برای افسردگی نیاز دارید، اضافه شوند.']\n",
            "-----\n"
          ]
        }
      ]
    },
    {
      "cell_type": "code",
      "source": [
        "# argmaxes = np.argpartition(list(h.values()), -5)[-5:]\n",
        "# for i in argmaxes:\n",
        "#   print(all_nutrition_doc_sentences[i], end='\\n-----\\n')\n",
        "\n",
        "# argmaxes = np.argpartition(list(a.values()), -5)[-5:]\n",
        "# for i in argmaxes:\n",
        "#   print(all_nutrition_doc_sentences[i], end='\\n-----\\n')"
      ],
      "metadata": {
        "id": "yrapneEAG_Od"
      },
      "execution_count": null,
      "outputs": []
    },
    {
      "cell_type": "markdown",
      "source": [
        "### <strong><font color=#CF9E50></span> Hair and Skin Docs Analysis </strong>"
      ],
      "metadata": {
        "id": "QcrDMqtCEqbd"
      }
    },
    {
      "cell_type": "code",
      "source": [
        "vectorizer.fit([' '.join(doc) for doc in all_hair_skin_tokens_nonsymbol])\n",
        "X = vectorizer.transform([' '.join(doc) for doc in all_hair_skin_tokens_nonsymbol])"
      ],
      "metadata": {
        "id": "s9VEqRJUGIND"
      },
      "execution_count": null,
      "outputs": []
    },
    {
      "cell_type": "code",
      "source": [
        "P = X.dot(X.T)"
      ],
      "metadata": {
        "id": "6wMJ3Xm5GRUf"
      },
      "execution_count": null,
      "outputs": []
    },
    {
      "cell_type": "code",
      "source": [
        "P_norm = normalize(P, norm='l1')\n",
        "np.sum(P_norm[2,:])"
      ],
      "metadata": {
        "colab": {
          "base_uri": "https://localhost:8080/"
        },
        "id": "JoHOj9ZeGT90",
        "outputId": "a1b34de6-b783-408f-8d9d-ae07b6319a94"
      },
      "execution_count": null,
      "outputs": [
        {
          "output_type": "execute_result",
          "data": {
            "text/plain": [
              "0.9999999999999983"
            ]
          },
          "metadata": {},
          "execution_count": 117
        }
      ]
    },
    {
      "cell_type": "code",
      "source": [
        "G = nx.from_numpy_matrix(P_norm.toarray())"
      ],
      "metadata": {
        "id": "f_8Khw3lGU0X"
      },
      "execution_count": null,
      "outputs": []
    },
    {
      "cell_type": "code",
      "source": [
        "page_rank = nx.pagerank(G, alpha=0.9)\n",
        "h, a = nx.hits(G)"
      ],
      "metadata": {
        "id": "WTKxX--HGYVz"
      },
      "execution_count": null,
      "outputs": []
    },
    {
      "cell_type": "code",
      "source": [
        "argmaxes = np.argpartition(list(page_rank.values()), -5)[-5:]\n",
        "for i in argmaxes:\n",
        "  print(all_hair_skin_doc_sentences[i], end='\\n-----\\n')"
      ],
      "metadata": {
        "colab": {
          "base_uri": "https://localhost:8080/"
        },
        "id": "R24JDRFOGZlB",
        "outputId": "2630b3ea-ab92-47fd-ade5-7b5a1d32f71c"
      },
      "execution_count": null,
      "outputs": [
        {
          "output_type": "stream",
          "name": "stdout",
          "text": [
            "['مواد لازم: ۱ قاشق غذاخوری روغن آرگان ۲ قاشق غذاخوری جو دو سر ۱ قاشق چای خوری عسل طرز تهیه و طریقه استفاده: ابتدا جو دوسر را در آب گرم بخیسانید تا کاملا نرم شود و سپس روغن و عسل را به آن بیفزایید، به خوبی هم بزنید تا زمانی که ترکیبی یکدست حاصل شود و سپس ماسک به دست آمده را روی صورتتان اعمال کنید و بعد از حدود ۱۰ دقیقه با آب ولرم و سپس آب سرد شستشو دهید.']\n",
            "-----\n",
            "['از ماسک به صورت صحیح استفاده کنید مثلا بهره گیری از جعفری، کرفس و لیموترش به شکل ماسک به سلامت پوست کمک می کند اما اگر این ماسک را بزنید و در معرض آفتاب قرار گیرید، در صورت شما لک ایجاد می شود زیرا آب جعفری حاوی ماده ای به نام «سورالن» است که در برابر اشعه مضر آفتاب رنگدانه های پوستی ایجاد می کند.']\n",
            "-----\n",
            "['ماسک مو برای کمک به رفع شوره سر مواد لازم: ۱ قاشق غذاخوری روغن آرگان ۱ قاشق غذاخوری روغن نارگیل ۱ قاشق غذاخوری آب لیمو طرز تهیه و طریقه استفاده: تمام مواد را با یکدیگر ترکیب کنید و روی حرارت قرار دهید و به خوبی هم بزنید و اجازه دهید تا کمی خنک شود و سپس روی پوست سر و ساقه موهایتان اعمال کنید و به آرامی به مدت ۱۰ دقیقه ماساژ دهید و بعد از ۱ ساعت با یک شامپوی ملایم شستشو دهید.']\n",
            "-----\n",
            "['پیش از این و در مطلب «کاهش عرق صورت با چند تکه یخ و آب خیار» روش های درمان خانگی را گفتیم که میتوانید به مراجعه به آن با این روش ها آشنا شوید، علاوه بر آن بعضی از راهکارهای خانگی هستند که به شما کمک می کند تا علائم هایپرهیدروزیس را بکاهید یا آن ها را تحت کنترل بگیرید که این راهکار ها شامل موارد زیر هستند: دوری از آب و هوای گرم یا مکان های گرم پوشیدن لباس گشاد، نازک و سبک پوشیدن لباس با رنگ روشن مانند سفید استفاده از ضد عرق ها به جای دئودورانت پوشیدن لباس هایی از فیبر طبیعی به جای فیبر صنعتی همراه داشتن حوله یا پارچه مخصوص برای گرفتن عرق اضافه پوشیدن عرق گیر حمل کردن یک پنکه دستی مخصوص باد خوردن سر و صورت درمان اضطراب با استفاده از تکنیک های کاهش دهنده استرس یا تراپی شناختی رفتاری استفاده از پودر صورت بدون بو هیدراته نگه داشتن بدن بالا بستن موها به دور از صورت و گردن اگر راهکارهای خانگی بالا جواب نداد، درمان های دیگری هم بوده که شامل موارد زیر هستند: گلیکوپیرولات موضعی تزریق بوتاکس که معمولا بین ۲ الی ۶ ماه اثر گذار است استفاده از دستمال های پاک کننده مخصوص تجویزی پزشک نسخه های تجویزی و قوی ضد عرق مانند موادی که حاوی آلومینیوم کلرید هستند و غده های عرق را مسدود می کنند بتا بلاکر ها و بنزودیازپین که علائم جسمی اضطراب و خجالت را می کاهند داروهای آنتی کولینرژیک و آنتی موسکارینیک که استیل کولین را مسدود می کنند که یک ماده شیمیایی در سیستم عصبی است که به فعال شدن غده های عرق کمک می کند یون توفارسیز که در پی آن پزشک ناحیه مورد نظر را با اعمال جریان الکتریکی ضعیف از طریق آب یا یک پد مرطوب درمان می کند که این درمان معمولا برای صورت خیلی رواج ندارد جراحی، در موارد شدید که فرد با هیچ کدام از روش های بالا جواب نمی گیرد، جراحی را پیشنهاد می کنند.']\n",
            "-----\n",
            "['پیش از این و در مطلب «کاهش عرق صورت با چند تکه یخ و آب خیار» روش های درمان خانگی را گفتیم که میتوانید به مراجعه به آن با این روش ها آشنا شوید، علاوه بر آن بعضی از راهکارهای خانگی هستند که به شما کمک می کند تا علائم هایپرهیدروزیس را بکاهید یا آن ها را تحت کنترل بگیرید که این راهکار ها شامل موارد زیر هستند: دوری از آب و هوای گرم یا مکان های گرم پوشیدن لباس گشاد، نازک و سبک پوشیدن لباس با رنگ روشن مانند سفید استفاده از ضد عرق ها به جای دئودورانت پوشیدن لباس هایی از فیبر طبیعی به جای فیبر صنعتی همراه داشتن حوله یا پارچه مخصوص برای گرفتن عرق اضافه پوشیدن عرق گیر حمل کردن یک پنکه دستی مخصوص باد خوردن سر و صورت درمان اضطراب با استفاده از تکنیک های کاهش دهنده استرس یا تراپی شناختی رفتاری استفاده از پودر صورت بدون بو هیدراته نگه داشتن بدن بالا بستن موها به دور از صورت و گردن اگر راهکارهای خانگی بالا جواب نداد، درمان های دیگری هم بوده که شامل موارد زیر هستند: گلیکوپیرولات موضعی تزریق بوتاکس که معمولا بین ۲ الی ۶ ماه اثر گذار است استفاده از دستمال های پاک کننده مخصوص تجویزی پزشک نسخه های تجویزی و قوی ضد عرق مانند موادی که حاوی آلومینیوم کلرید هستند و غده های عرق را مسدود می کنند بتا بلاکر ها و بنزودیازپین که علائم جسمی اضطراب و خجالت را می کاهند داروهای آنتی کولینرژیک و آنتی موسکارینیک که استیل کولین را مسدود می کنند که یک ماده شیمیایی در سیستم عصبی است که به فعال شدن غده های عرق کمک می کند یون توفارسیز که در پی آن پزشک ناحیه مورد نظر را با اعمال جریان الکتریکی ضعیف از طریق آب یا یک پد مرطوب درمان می کند که این درمان معمولا برای صورت خیلی رواج ندارد جراحی، در موارد شدید که فرد با هیچ کدام از روش های بالا جواب نمی گیرد، جراحی را پیشنهاد می کنند.']\n",
            "-----\n"
          ]
        }
      ]
    },
    {
      "cell_type": "code",
      "source": [
        "# argmaxes = np.argpartition(list(h.values()), -5)[-5:]\n",
        "# for i in argmaxes:\n",
        "#   print(all_nutrition_doc_sentences[i], end='\\n-----\\n')\n",
        "\n",
        "# argmaxes = np.argpartition(list(a.values()), -5)[-5:]\n",
        "# for i in argmaxes:\n",
        "#   print(all_nutrition_doc_sentences[i], end='\\n-----\\n')"
      ],
      "metadata": {
        "id": "XHt6K7KTHAfv"
      },
      "execution_count": null,
      "outputs": []
    },
    {
      "cell_type": "markdown",
      "source": [
        "### <strong><font color=#CF9E50></span> Prophylaxis and Disease Docs Analysis </strong>"
      ],
      "metadata": {
        "id": "ttt2g3kwEtTs"
      }
    },
    {
      "cell_type": "code",
      "source": [
        "vectorizer.fit([' '.join(doc) for doc in all_prophylaxis_disease_tokens_nonsymbol])\n",
        "X = vectorizer.transform([' '.join(doc) for doc in all_prophylaxis_disease_tokens_nonsymbol])"
      ],
      "metadata": {
        "id": "yLKltFjwG2-8"
      },
      "execution_count": null,
      "outputs": []
    },
    {
      "cell_type": "code",
      "source": [
        "P = X.dot(X.T)"
      ],
      "metadata": {
        "id": "xMTeL27LG9jp"
      },
      "execution_count": null,
      "outputs": []
    },
    {
      "cell_type": "code",
      "source": [
        "P_norm = normalize(P, norm='l1')\n",
        "np.sum(P_norm[2,:])"
      ],
      "metadata": {
        "colab": {
          "base_uri": "https://localhost:8080/"
        },
        "id": "AJy3zcdGHD9j",
        "outputId": "a3302c6c-a4ea-49e9-d5bf-10c1ef76a1f7"
      },
      "execution_count": null,
      "outputs": [
        {
          "output_type": "execute_result",
          "data": {
            "text/plain": [
              "0.9999999999999997"
            ]
          },
          "metadata": {},
          "execution_count": 124
        }
      ]
    },
    {
      "cell_type": "code",
      "source": [
        "G = nx.from_numpy_matrix(P_norm.toarray())"
      ],
      "metadata": {
        "id": "3M9Z3PewHFeK"
      },
      "execution_count": null,
      "outputs": []
    },
    {
      "cell_type": "code",
      "source": [
        "page_rank = nx.pagerank(G, alpha=0.9)\n",
        "h, a = nx.hits(G)"
      ],
      "metadata": {
        "id": "p4rjJNxrHG87"
      },
      "execution_count": null,
      "outputs": []
    },
    {
      "cell_type": "code",
      "source": [
        "argmaxes = np.argpartition(list(page_rank.values()), -5)[-5:]\n",
        "for i in argmaxes:\n",
        "  print(all_hair_skin_doc_sentences[i], end='\\n-----\\n')"
      ],
      "metadata": {
        "id": "yEpndaZNHIOW"
      },
      "execution_count": null,
      "outputs": []
    },
    {
      "cell_type": "code",
      "source": [
        "# argmaxes = np.argpartition(list(h.values()), -5)[-5:]\n",
        "# for i in argmaxes:\n",
        "#   print(all_nutrition_doc_sentences[i], end='\\n-----\\n')\n",
        "\n",
        "# argmaxes = np.argpartition(list(a.values()), -5)[-5:]\n",
        "# for i in argmaxes:\n",
        "#   print(all_nutrition_doc_sentences[i], end='\\n-----\\n')"
      ],
      "metadata": {
        "id": "0SIriFOzHBSI"
      },
      "execution_count": null,
      "outputs": []
    }
  ],
  "metadata": {
    "colab": {
      "collapsed_sections": [],
      "name": "MIR_HW5.ipynb",
      "provenance": []
    },
    "kernelspec": {
      "display_name": "Python 3",
      "name": "python3"
    },
    "language_info": {
      "name": "python"
    }
  },
  "nbformat": 4,
  "nbformat_minor": 0
}